{
 "cells": [
  {
   "cell_type": "markdown",
   "id": "18f812e0-c89f-4201-89fd-a8a564615c87",
   "metadata": {},
   "source": [
    "# Populating and querying database with SQLite\n",
    "## Populate sample file"
   ]
  },
  {
   "cell_type": "code",
   "execution_count": null,
   "id": "f4f3dad4-e4c1-488c-af91-be7e8f1f63cd",
   "metadata": {},
   "outputs": [
    {
     "name": "stderr",
     "output_type": "stream",
     "text": [
      " 61%|██████    | 1516/2500 [00:01<00:00, 1655.11it/s]"
     ]
    }
   ],
   "source": [
    "from faker import Faker\n",
    "from tqdm import tqdm\n",
    "from random import sample\n",
    "\n",
    "fake = Faker()\n",
    "Faker.seed(1234567890)\n",
    "\n",
    "file = open('data.tsv', 'w')\n",
    "file.write('SSN\\tName\\tPhone number\\tCompany\\tBank\\tCredit Card\\tCredit Card Expiration\\tCredit Card Provider\\n')\n",
    "\n",
    "banks = ['Fernandez Inc', 'Zimmerman PLC', 'Shannon-Parker', 'Norman, Salas and Buckley', 'Solis-Harris', 'Cohen, Lane and Bryan', 'Woodward-Jones', 'Howard-Randall', 'Johnson, Adams and Baker', 'Schneider PLC']\n",
    "\n",
    "for n in tqdm(range(2500)):\n",
    "    ssn = fake.ssn()\n",
    "    name = fake.name()\n",
    "    phone_number = fake.phone_number()\n",
    "    company = fake.company()\n",
    "    bank = sample(banks,1)[0]\n",
    "    credit_card = fake.credit_card_number()\n",
    "    credit_card_expiration = fake.credit_card_expire()\n",
    "    credit_card_provider = fake.credit_card_provider()\n",
    "    \n",
    "    file.write('{0}\\t{1}\\t{2}\\t{3}\\t{4}\\t{5}\\t{6}\\t{7}\\n'.format(ssn, name, phone_number,company,bank,credit_card,credit_card_expiration,credit_card_provider))\n",
    "file.close()\n"
   ]
  },
  {
   "cell_type": "code",
   "execution_count": null,
   "id": "c38cdbce-e7f2-4a78-876b-6edf4c195a60",
   "metadata": {},
   "outputs": [],
   "source": [
    "import csv, sqlite3\n",
    "import pandas as pd\n",
    "\n",
    "!touch database.db\n",
    "conn = sqlite3.connect('database.db')\n",
    "cursor = con.cursor()"
   ]
  },
  {
   "cell_type": "code",
   "execution_count": null,
   "id": "786980ab-13e2-42a0-97a3-52929753e3e4",
   "metadata": {},
   "outputs": [],
   "source": [
    "filename = 'data.tsv'\n",
    "df = pd.read_csv(filename, sep='\\t')\n",
    "df.to_sql('clients', conn, if_exists='append', index=False)"
   ]
  },
  {
   "cell_type": "markdown",
   "id": "a2d744aa-f197-4b86-aabe-54b12f5f2c56",
   "metadata": {},
   "source": [
    "## Print all values"
   ]
  },
  {
   "cell_type": "code",
   "execution_count": null,
   "id": "efe9abd0-822d-4a4c-8e90-e49b7ef04ba0",
   "metadata": {},
   "outputs": [],
   "source": [
    "cur.execute(\"SELECT * FROM manifest\")\n",
    "rows = cur.fetchall()"
   ]
  },
  {
   "cell_type": "markdown",
   "id": "02542f9c-dc56-431b-8594-386ae28c7742",
   "metadata": {},
   "source": [
    "## Exercises\n",
    "1. Count how many records are in table `clients`."
   ]
  },
  {
   "cell_type": "code",
   "execution_count": null,
   "id": "a421213b-6605-4281-8b69-d02f3b720a82",
   "metadata": {},
   "outputs": [],
   "source": [
    "# INSERT CODE BELOW"
   ]
  },
  {
   "cell_type": "markdown",
   "id": "814efa8b-019f-4c15-8b85-5ba3efaab5d1",
   "metadata": {},
   "source": [
    "2. Confirm all `SSN` are unique."
   ]
  },
  {
   "cell_type": "code",
   "execution_count": null,
   "id": "690e1f3e-02bd-4078-9fa6-35c352c56b9b",
   "metadata": {},
   "outputs": [],
   "source": [
    "# INSERT CODE BELOW"
   ]
  },
  {
   "cell_type": "markdown",
   "id": "aa5a5240-56b0-442c-aed2-e03cf394f15c",
   "metadata": {},
   "source": [
    "3. Find the unique list of all banks in `Bank`."
   ]
  },
  {
   "cell_type": "code",
   "execution_count": null,
   "id": "251b0030-f301-48e5-996c-21e67f885dd8",
   "metadata": {},
   "outputs": [],
   "source": [
    "# INSERT CODE BELOW"
   ]
  },
  {
   "cell_type": "markdown",
   "id": "5c69404b-b7bb-4b31-9d2f-d30fd1df675d",
   "metadata": {},
   "source": [
    "4. Count the number of records associated with each bank in column `Bank`. Create a table called `Banks` and populate it with columns `Name` and `Frequency`. E.g.\n",
    "\n",
    "````\n",
    "| Name            | Frequency |\n",
    "|-----------------|-----------|\n",
    "| PNC Bank        | 24        |\n",
    "| Bank of America | 103       |\n",
    "| Banco Popular   | 453       |\n",
    "```\n",
    "\n",
    "Add table to database."
   ]
  },
  {
   "cell_type": "code",
   "execution_count": null,
   "id": "dda48e5e-e76d-41c1-9446-1089411a00ac",
   "metadata": {},
   "outputs": [],
   "source": [
    "# INSERT CODE BELOW"
   ]
  },
  {
   "cell_type": "markdown",
   "id": "a9a8b72d-f266-49c0-b790-f5999b44cd83",
   "metadata": {},
   "source": [
    "5. Select all records from table `Banks`."
   ]
  },
  {
   "cell_type": "code",
   "execution_count": null,
   "id": "d25e5fd9-120b-49ef-aa83-1bfb784f660f",
   "metadata": {},
   "outputs": [],
   "source": [
    "# INSERT CODE BELOW"
   ]
  },
  {
   "cell_type": "markdown",
   "id": "fc5f940f-0762-403a-b93c-93e43ce0359c",
   "metadata": {},
   "source": [
    "6. Update table `clients` and make the column `SSN` as primary key."
   ]
  },
  {
   "cell_type": "code",
   "execution_count": null,
   "id": "5da8daeb-ec07-4fb2-9a18-2c53acd1cac8",
   "metadata": {},
   "outputs": [],
   "source": [
    "# INSERT CODE BELOW"
   ]
  }
 ],
 "metadata": {
  "kernelspec": {
   "display_name": "Python 3 (ipykernel)",
   "language": "python",
   "name": "python3"
  },
  "language_info": {
   "codemirror_mode": {
    "name": "ipython",
    "version": 3
   },
   "file_extension": ".py",
   "mimetype": "text/x-python",
   "name": "python",
   "nbconvert_exporter": "python",
   "pygments_lexer": "ipython3",
   "version": "3.9.13"
  }
 },
 "nbformat": 4,
 "nbformat_minor": 5
}
